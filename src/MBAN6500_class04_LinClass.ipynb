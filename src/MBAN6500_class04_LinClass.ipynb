{
 "cells": [
  {
   "cell_type": "markdown",
   "metadata": {
    "id": "UDm-hthhewlO"
   },
   "source": [
    "# Linear Classification\n",
    "\n",
    "We will do linear classification of images using a linear Support Vector Machine (SVM).\n",
    "\n",
    "\n",
    "## Required packages\n",
    "\n",
    "If you are not on Google Colab, then you might have to install `sklearn`.\n",
    "\n",
    "From a terminal:\n",
    "```\n",
    "pip install -U sklearn\n",
    "```\n",
    "from Jupyter:\n",
    "```python\n",
    "!pip install -U sklearn\n",
    "```"
   ]
  },
  {
   "cell_type": "code",
   "execution_count": null,
   "metadata": {
    "id": "fjLmOSzzewlW"
   },
   "outputs": [],
   "source": [
    ""
   ]
  },
  {
   "cell_type": "markdown",
   "metadata": {
    "id": "nGqvKheFewlZ"
   },
   "source": [
    "## Import the necessary packages"
   ]
  },
  {
   "cell_type": "code",
   "execution_count": 1,
   "metadata": {
    "id": "duRecllrewla",
    "pycharm": {
     "is_executing": true
    }
   },
   "outputs": [],
   "source": [
    "from sklearn.datasets import fetch_openml\n",
    "from sklearn.svm import LinearSVC  # Linear Support Vector Classifier\n",
    "from sklearn.model_selection import train_test_split\n",
    "import matplotlib.pyplot as plt\n",
    "from sklearn import metrics\n",
    "import numpy as np"
   ]
  },
  {
   "cell_type": "markdown",
   "metadata": {
    "id": "foo5jEwsewlb"
   },
   "source": [
    "## Download and explore the data\n",
    "We will use the ```fetch_openml``` helper function from ```sklearn.datasets``` to download the data from [openml.org](https://www.openml.org/d/40926). The data is a small version of the CIFAR-10 dataset, called ```CIFAR_10_small```. The CIFAR-10 data set is described on [Alex Krizhevsky's homepage](https://www.cs.toronto.edu/~kriz/cifar.html)"
   ]
  },
  {
   "cell_type": "code",
   "execution_count": 2,
   "metadata": {
    "id": "Mdez7bLrewlc",
    "pycharm": {
     "is_executing": true
    }
   },
   "outputs": [],
   "source": [
    "data = fetch_openml(name='CIFAR_10_small')"
   ]
  },
  {
   "cell_type": "markdown",
   "metadata": {
    "id": "ea3i4NhLewle"
   },
   "source": [
    "### Explore ```data```\n",
    "\n",
    "**Question 1**: How can we figure out what type of object ```data``` is?"
   ]
  },
  {
   "cell_type": "code",
   "execution_count": 3,
   "metadata": {
    "id": "HE-sbKejewle",
    "colab": {
     "base_uri": "https://localhost:8080/"
    },
    "outputId": "46941af5-c05c-4203-c376-72d37e990783"
   },
   "outputs": [
    {
     "output_type": "execute_result",
     "data": {
      "text/plain": [
       "sklearn.utils.Bunch"
      ]
     },
     "metadata": {},
     "execution_count": 3
    }
   ],
   "source": [
    "type(data)"
   ]
  },
  {
   "cell_type": "markdown",
   "metadata": {
    "id": "udy0LjRCewlf"
   },
   "source": [
    "**Question 2**: How do we check what attributes ```data``` has?"
   ]
  },
  {
   "cell_type": "code",
   "execution_count": 4,
   "metadata": {
    "id": "c95-B51-ewlh",
    "colab": {
     "base_uri": "https://localhost:8080/"
    },
    "outputId": "f4824b34-d918-473b-c7f0-3916159e6956"
   },
   "outputs": [
    {
     "output_type": "execute_result",
     "data": {
      "text/plain": [
       "['DESCR',\n",
       " 'categories',\n",
       " 'data',\n",
       " 'details',\n",
       " 'feature_names',\n",
       " 'frame',\n",
       " 'target',\n",
       " 'target_names',\n",
       " 'url']"
      ]
     },
     "metadata": {},
     "execution_count": 4
    }
   ],
   "source": [
    "dir(data)"
   ]
  },
  {
   "cell_type": "markdown",
   "metadata": {
    "id": "rH86FRQcewlh"
   },
   "source": [
    "**Question 3**: How do we check the content of the attribute ```DESCR```?"
   ]
  },
  {
   "cell_type": "code",
   "execution_count": null,
   "metadata": {
    "id": "T5zhlm0Yewli",
    "colab": {
     "base_uri": "https://localhost:8080/"
    },
    "outputId": "9febe42d-e3d5-43bc-af77-a83093bf30ab"
   },
   "outputs": [
    {
     "output_type": "stream",
     "name": "stdout",
     "text": [
      "**Author**: Alex Krizhevsky, Vinod Nair, and Geoffrey Hinton    \n",
      "**Source**: [University of Toronto](https://www.cs.toronto.edu/~kriz/cifar.html) - 2009  \n",
      "**Please cite**: Alex Krizhevsky (2009) Learning Multiple Layers of Features from Tiny Images, Tech Report.\n",
      "\n",
      "**CIFAR-10 small**  \n",
      "This is a 20,000 instance sample of the original CIFAR-10 dataset. Sampled randomly and stratified, with 2000 examples per class. Training and test set are merged. Find the corresponding task for the original train-test splits.\n",
      "\n",
      "CIFAR-10 is a labeled subset of the [80 million tiny images dataset](http://groups.csail.mit.edu/vision/TinyImages/). It (originally) consists 32x32 color images representing 10 classes of objects:  \n",
      "0. airplane  \n",
      "1. automobile          \n",
      "2. bird          \n",
      "3. cat          \n",
      "4. deer          \n",
      "5. dog          \n",
      "6. frog          \n",
      "7. horse          \n",
      "8. ship          \n",
      "9. truck          \n",
      "\n",
      "The classes are completely mutually exclusive. There is no overlap between automobiles and trucks. \"Automobile\" includes sedans, SUVs, things of that sort. \"Truck\" includes only big trucks. Neither includes pickup trucks.\n",
      "\n",
      "The original CIFAR-10 dataset contains 6000 images per class. The original train-test split randomly divided these into 5000 train and 1000 test images per class.\n",
      "\n",
      "### Attribute description  \n",
      "\n",
      "Each instance represents a 32x32 colour image as a 3072-value array. The first 1024 entries contain the red channel values, the next 1024 the green, and the final 1024 the blue. The image is stored in row-major order, so that the first 32 entries of the array are the red channel values of the first row of the image.\n",
      "\n",
      "The labels are encoded as integers in the range 0-9, corresponding to the numbered classes listed above\n",
      "\n",
      "Downloaded from openml.org.\n"
     ]
    }
   ],
   "source": [
    "print(data.DESCR)"
   ]
  },
  {
   "cell_type": "markdown",
   "metadata": {
    "id": "P_frfkUSewli"
   },
   "source": [
    "**Question 4**: In what attribute are the inputs (X) and what in what type of object are they stored?"
   ]
  },
  {
   "cell_type": "code",
   "execution_count": 8,
   "metadata": {
    "id": "I7tPAa4Xewlj",
    "colab": {
     "base_uri": "https://localhost:8080/"
    },
    "outputId": "31807a6a-b8a2-466c-ea8e-21fc0815f593"
   },
   "outputs": [
    {
     "output_type": "execute_result",
     "data": {
      "text/plain": [
       "list"
      ]
     },
     "metadata": {},
     "execution_count": 8
    }
   ],
   "source": [
    "type(data.target_names)"
   ]
  },
  {
   "cell_type": "markdown",
   "metadata": {
    "id": "hhFk-AW9eNoq"
   },
   "source": [
    "**Queston 5**: How can we check how many examples/rows (i.e. individual images) the data set contains?"
   ]
  },
  {
   "cell_type": "code",
   "execution_count": 9,
   "metadata": {
    "colab": {
     "base_uri": "https://localhost:8080/"
    },
    "id": "oVS3jBoJeNoq",
    "outputId": "e0fc39c7-91a9-4180-95f8-9473d65e3f9a"
   },
   "outputs": [
    {
     "output_type": "stream",
     "name": "stdout",
     "text": [
      "<class 'pandas.core.frame.DataFrame'>\n",
      "RangeIndex: 20000 entries, 0 to 19999\n",
      "Columns: 3072 entries, a0 to a3071\n",
      "dtypes: float64(3072)\n",
      "memory usage: 468.8 MB\n"
     ]
    },
    {
     "output_type": "execute_result",
     "data": {
      "text/plain": [
       "(20000, 3072)"
      ]
     },
     "metadata": {},
     "execution_count": 9
    }
   ],
   "source": [
    "data.data.info()\n",
    "data.data.shape\n",
    "data.data.shape[0]"
   ]
  },
  {
   "cell_type": "markdown",
   "metadata": {
    "id": "lXn9oAbDewlj"
   },
   "source": [
    "**Queston 6**: How can we check how many features/columns (i.e. number of pixels in an image) dataset contains?"
   ]
  },
  {
   "cell_type": "code",
   "execution_count": null,
   "metadata": {
    "id": "h1llXinlewll",
    "colab": {
     "base_uri": "https://localhost:8080/"
    },
    "outputId": "20998c4d-25a0-497e-9522-c9836d9b5c9c"
   },
   "outputs": [
    {
     "output_type": "stream",
     "name": "stdout",
     "text": [
      "a0       255.0\n",
      "a1       253.0\n",
      "a2       253.0\n",
      "a3       253.0\n",
      "a4       253.0\n",
      "         ...  \n",
      "a3067     72.0\n",
      "a3068     79.0\n",
      "a3069     83.0\n",
      "a3070     83.0\n",
      "a3071     84.0\n",
      "Name: 2, Length: 3072, dtype: float64\n",
      "<class 'pandas.core.series.Series'>\n"
     ]
    }
   ],
   "source": [
    "print(data.data.iloc[2])\n",
    "print(type(data.data.iloc[2]))"
   ]
  },
  {
   "cell_type": "markdown",
   "metadata": {
    "id": "zY5LTqaIewll"
   },
   "source": [
    "### Look at some images"
   ]
  },
  {
   "cell_type": "code",
   "execution_count": 12,
   "metadata": {
    "id": "KqFP6PxYewlm",
    "scrolled": true,
    "pycharm": {
     "is_executing": true
    },
    "colab": {
     "base_uri": "https://localhost:8080/",
     "height": 1000
    },
    "outputId": "e9d84585-6791-4203-beb2-e54bee110baa"
   },
   "outputs": [
    {
     "output_type": "execute_result",
     "data": {
      "text/plain": [
       "<matplotlib.image.AxesImage at 0x7f7f3179e350>"
      ]
     },
     "metadata": {},
     "execution_count": 12
    },
    {
     "output_type": "display_data",
     "data": {
      "image/png": "[encoded data removed]",
      "text/plain": [
       "<Figure size 1800x1800 with 9 Axes>"
      ]
     },
     "metadata": {
      "needs_background": "light"
     }
    }
   ],
   "source": [
    "# Reshape and normalize 9 \"random\" images\n",
    "im0 = data.data.iloc[2].values.reshape(-1,32,32).transpose(1,2,0)/255.\n",
    "im1 = data.data.iloc[51].values.reshape(-1,32,32).transpose(1,2,0)/255.\n",
    "im2 = data.data.iloc[2823].values.reshape(-1,32,32).transpose(1,2,0)/255.\n",
    "\n",
    "im3 = data.data.iloc[1024].values.reshape(-1,32,32).transpose(1,2,0)/255.\n",
    "im4 = data.data.iloc[2011].values.reshape(-1,32,32).transpose(1,2,0)/255.\n",
    "im5 = data.data.iloc[8023].values.reshape(-1,32,32).transpose(1,2,0)/255.\n",
    "\n",
    "im6 = data.data.iloc[10003].values.reshape(-1,32,32).transpose(1,2,0)/255.\n",
    "im7 = data.data.iloc[15004].values.reshape(-1,32,32).transpose(1,2,0)/255.\n",
    "im8 = data.data.iloc[19023].values.reshape(-1,32,32).transpose(1,2,0)/255.\n",
    "\n",
    "# make a 3 x 3 figure\n",
    "fig = plt.figure(figsize=(25,25))\n",
    "# first image\n",
    "ax = fig.add_subplot(331)\n",
    "ax.imshow(im0)\n",
    "# second image\n",
    "ax = fig.add_subplot(332)\n",
    "ax.imshow(im1)\n",
    "# third image\n",
    "ax = fig.add_subplot(333)\n",
    "ax.imshow(im2)\n",
    "# 4th image\n",
    "ax = fig.add_subplot(334)\n",
    "ax.imshow(im3)\n",
    "# 5th image\n",
    "ax = fig.add_subplot(335)\n",
    "ax.imshow(im4)\n",
    "# 6th image\n",
    "ax = fig.add_subplot(336)\n",
    "ax.imshow(im5)\n",
    "# 7th image\n",
    "ax = fig.add_subplot(337)\n",
    "ax.imshow(im6)\n",
    "# 8th image\n",
    "ax = fig.add_subplot(338)\n",
    "ax.imshow(im7)\n",
    "# 9th image\n",
    "ax = fig.add_subplot(339)\n",
    "ax.imshow(im8)"
   ]
  },
  {
   "cell_type": "markdown",
   "metadata": {
    "id": "LF1mRH9fewlo"
   },
   "source": [
    "**Question 7**: Where are the labels (`y`)?"
   ]
  },
  {
   "cell_type": "code",
   "execution_count": 13,
   "metadata": {
    "id": "PtO0A37tewlo",
    "colab": {
     "base_uri": "https://localhost:8080/"
    },
    "outputId": "814b382d-c05b-4eed-c595-8b98d203debf"
   },
   "outputs": [
    {
     "output_type": "execute_result",
     "data": {
      "text/plain": [
       "0        6\n",
       "1        9\n",
       "2        9\n",
       "3        4\n",
       "4        1\n",
       "        ..\n",
       "19995    8\n",
       "19996    3\n",
       "19997    5\n",
       "19998    1\n",
       "19999    7\n",
       "Name: class, Length: 20000, dtype: category\n",
       "Categories (10, object): ['0', '1', '2', '3', ..., '6', '7', '8', '9']"
      ]
     },
     "metadata": {},
     "execution_count": 13
    }
   ],
   "source": [
    "data.target"
   ]
  },
  {
   "cell_type": "markdown",
   "metadata": {
    "id": "i1m-bJTNewlp"
   },
   "source": [
    "## Preprocessing\n",
    "\n",
    "Instead of all 10 classes, we want to just use the following three: airplane, automobile and deer. From ```data.DESCR``` we can see that these corresponds to the integers 0, 1 and 4.\n",
    "### Normalize the data and remove all classes except three\n",
    "\n",
    "The images are stored as ```uint8```, i.e. unsigned 8-bit integers, where the min value is 0 and max is 255. \n",
    "\n",
    "**Question 8**: How can you check whether I am lying or not?"
   ]
  },
  {
   "cell_type": "code",
   "execution_count": 15,
   "metadata": {
    "id": "zOIiZl8hewlq",
    "colab": {
     "base_uri": "https://localhost:8080/"
    },
    "outputId": "fdce3486-817d-45de-81cb-d447a4a2cbc8"
   },
   "outputs": [
    {
     "output_type": "execute_result",
     "data": {
      "text/plain": [
       "0.0"
      ]
     },
     "metadata": {},
     "execution_count": 15
    }
   ],
   "source": [
    "data.data.min().min()"
   ]
  },
  {
   "cell_type": "code",
   "source": [
    "data.data.max().max()"
   ],
   "metadata": {
    "colab": {
     "base_uri": "https://localhost:8080/"
    },
    "id": "A1FpCDnNxGAD",
    "outputId": "a1a9b81a-d3c9-40c5-9610-1361aa29400f"
   },
   "execution_count": 16,
   "outputs": [
    {
     "output_type": "execute_result",
     "data": {
      "text/plain": [
       "255.0"
      ]
     },
     "metadata": {},
     "execution_count": 16
    }
   ]
  },
  {
   "cell_type": "code",
   "source": [
    "np.unique(data.data)"
   ],
   "metadata": {
    "colab": {
     "base_uri": "https://localhost:8080/"
    },
    "id": "kR0Ew4VBxNuA",
    "outputId": "628bad2e-98eb-464a-8ec0-5bed47a4c6fa"
   },
   "execution_count": 17,
   "outputs": [
    {
     "output_type": "execute_result",
     "data": {
      "text/plain": [
       "array([  0.,   1.,   2.,   3.,   4.,   5.,   6.,   7.,   8.,   9.,  10.,\n",
       "        11.,  12.,  13.,  14.,  15.,  16.,  17.,  18.,  19.,  20.,  21.,\n",
       "        22.,  23.,  24.,  25.,  26.,  27.,  28.,  29.,  30.,  31.,  32.,\n",
       "        33.,  34.,  35.,  36.,  37.,  38.,  39.,  40.,  41.,  42.,  43.,\n",
       "        44.,  45.,  46.,  47.,  48.,  49.,  50.,  51.,  52.,  53.,  54.,\n",
       "        55.,  56.,  57.,  58.,  59.,  60.,  61.,  62.,  63.,  64.,  65.,\n",
       "        66.,  67.,  68.,  69.,  70.,  71.,  72.,  73.,  74.,  75.,  76.,\n",
       "        77.,  78.,  79.,  80.,  81.,  82.,  83.,  84.,  85.,  86.,  87.,\n",
       "        88.,  89.,  90.,  91.,  92.,  93.,  94.,  95.,  96.,  97.,  98.,\n",
       "        99., 100., 101., 102., 103., 104., 105., 106., 107., 108., 109.,\n",
       "       110., 111., 112., 113., 114., 115., 116., 117., 118., 119., 120.,\n",
       "       121., 122., 123., 124., 125., 126., 127., 128., 129., 130., 131.,\n",
       "       132., 133., 134., 135., 136., 137., 138., 139., 140., 141., 142.,\n",
       "       143., 144., 145., 146., 147., 148., 149., 150., 151., 152., 153.,\n",
       "       154., 155., 156., 157., 158., 159., 160., 161., 162., 163., 164.,\n",
       "       165., 166., 167., 168., 169., 170., 171., 172., 173., 174., 175.,\n",
       "       176., 177., 178., 179., 180., 181., 182., 183., 184., 185., 186.,\n",
       "       187., 188., 189., 190., 191., 192., 193., 194., 195., 196., 197.,\n",
       "       198., 199., 200., 201., 202., 203., 204., 205., 206., 207., 208.,\n",
       "       209., 210., 211., 212., 213., 214., 215., 216., 217., 218., 219.,\n",
       "       220., 221., 222., 223., 224., 225., 226., 227., 228., 229., 230.,\n",
       "       231., 232., 233., 234., 235., 236., 237., 238., 239., 240., 241.,\n",
       "       242., 243., 244., 245., 246., 247., 248., 249., 250., 251., 252.,\n",
       "       253., 254., 255.])"
      ]
     },
     "metadata": {},
     "execution_count": 17
    }
   ]
  },
  {
   "cell_type": "markdown",
   "metadata": {
    "id": "Jub2vRaqewlq"
   },
   "source": [
    "**Question 9**: How can we normalize the data so that all values are between 0 and 1?"
   ]
  },
  {
   "cell_type": "code",
   "execution_count": 18,
   "metadata": {
    "id": "5gBuaNV8eNot",
    "colab": {
     "base_uri": "https://localhost:8080/"
    },
    "outputId": "f2ccc726-eb7d-4d43-8545-cc6b67b775da"
   },
   "outputs": [
    {
     "output_type": "execute_result",
     "data": {
      "text/plain": [
       "array([0.        , 0.00392157, 0.00784314, 0.01176471, 0.01568627,\n",
       "       0.01960784, 0.02352941, 0.02745098, 0.03137255, 0.03529412,\n",
       "       0.03921569, 0.04313725, 0.04705882, 0.05098039, 0.05490196,\n",
       "       0.05882353, 0.0627451 , 0.06666667, 0.07058824, 0.0745098 ,\n",
       "       0.07843137, 0.08235294, 0.08627451, 0.09019608, 0.09411765,\n",
       "       0.09803922, 0.10196078, 0.10588235, 0.10980392, 0.11372549,\n",
       "       0.11764706, 0.12156863, 0.1254902 , 0.12941176, 0.13333333,\n",
       "       0.1372549 , 0.14117647, 0.14509804, 0.14901961, 0.15294118,\n",
       "       0.15686275, 0.16078431, 0.16470588, 0.16862745, 0.17254902,\n",
       "       0.17647059, 0.18039216, 0.18431373, 0.18823529, 0.19215686,\n",
       "       0.19607843, 0.2       , 0.20392157, 0.20784314, 0.21176471,\n",
       "       0.21568627, 0.21960784, 0.22352941, 0.22745098, 0.23137255,\n",
       "       0.23529412, 0.23921569, 0.24313725, 0.24705882, 0.25098039,\n",
       "       0.25490196, 0.25882353, 0.2627451 , 0.26666667, 0.27058824,\n",
       "       0.2745098 , 0.27843137, 0.28235294, 0.28627451, 0.29019608,\n",
       "       0.29411765, 0.29803922, 0.30196078, 0.30588235, 0.30980392,\n",
       "       0.31372549, 0.31764706, 0.32156863, 0.3254902 , 0.32941176,\n",
       "       0.33333333, 0.3372549 , 0.34117647, 0.34509804, 0.34901961,\n",
       "       0.35294118, 0.35686275, 0.36078431, 0.36470588, 0.36862745,\n",
       "       0.37254902, 0.37647059, 0.38039216, 0.38431373, 0.38823529,\n",
       "       0.39215686, 0.39607843, 0.4       , 0.40392157, 0.40784314,\n",
       "       0.41176471, 0.41568627, 0.41960784, 0.42352941, 0.42745098,\n",
       "       0.43137255, 0.43529412, 0.43921569, 0.44313725, 0.44705882,\n",
       "       0.45098039, 0.45490196, 0.45882353, 0.4627451 , 0.46666667,\n",
       "       0.47058824, 0.4745098 , 0.47843137, 0.48235294, 0.48627451,\n",
       "       0.49019608, 0.49411765, 0.49803922, 0.50196078, 0.50588235,\n",
       "       0.50980392, 0.51372549, 0.51764706, 0.52156863, 0.5254902 ,\n",
       "       0.52941176, 0.53333333, 0.5372549 , 0.54117647, 0.54509804,\n",
       "       0.54901961, 0.55294118, 0.55686275, 0.56078431, 0.56470588,\n",
       "       0.56862745, 0.57254902, 0.57647059, 0.58039216, 0.58431373,\n",
       "       0.58823529, 0.59215686, 0.59607843, 0.6       , 0.60392157,\n",
       "       0.60784314, 0.61176471, 0.61568627, 0.61960784, 0.62352941,\n",
       "       0.62745098, 0.63137255, 0.63529412, 0.63921569, 0.64313725,\n",
       "       0.64705882, 0.65098039, 0.65490196, 0.65882353, 0.6627451 ,\n",
       "       0.66666667, 0.67058824, 0.6745098 , 0.67843137, 0.68235294,\n",
       "       0.68627451, 0.69019608, 0.69411765, 0.69803922, 0.70196078,\n",
       "       0.70588235, 0.70980392, 0.71372549, 0.71764706, 0.72156863,\n",
       "       0.7254902 , 0.72941176, 0.73333333, 0.7372549 , 0.74117647,\n",
       "       0.74509804, 0.74901961, 0.75294118, 0.75686275, 0.76078431,\n",
       "       0.76470588, 0.76862745, 0.77254902, 0.77647059, 0.78039216,\n",
       "       0.78431373, 0.78823529, 0.79215686, 0.79607843, 0.8       ,\n",
       "       0.80392157, 0.80784314, 0.81176471, 0.81568627, 0.81960784,\n",
       "       0.82352941, 0.82745098, 0.83137255, 0.83529412, 0.83921569,\n",
       "       0.84313725, 0.84705882, 0.85098039, 0.85490196, 0.85882353,\n",
       "       0.8627451 , 0.86666667, 0.87058824, 0.8745098 , 0.87843137,\n",
       "       0.88235294, 0.88627451, 0.89019608, 0.89411765, 0.89803922,\n",
       "       0.90196078, 0.90588235, 0.90980392, 0.91372549, 0.91764706,\n",
       "       0.92156863, 0.9254902 , 0.92941176, 0.93333333, 0.9372549 ,\n",
       "       0.94117647, 0.94509804, 0.94901961, 0.95294118, 0.95686275,\n",
       "       0.96078431, 0.96470588, 0.96862745, 0.97254902, 0.97647059,\n",
       "       0.98039216, 0.98431373, 0.98823529, 0.99215686, 0.99607843,\n",
       "       1.        ])"
      ]
     },
     "metadata": {},
     "execution_count": 18
    }
   ],
   "source": [
    "X = data.data / 255\n",
    "np.unique(X)"
   ]
  },
  {
   "cell_type": "markdown",
   "metadata": {
    "id": "deWNcez5ewlr"
   },
   "source": [
    "Before moving ahead it is best to fix the data type (```dtype```) of the targets and copy them to a new variable ```y```."
   ]
  },
  {
   "cell_type": "code",
   "execution_count": 20,
   "metadata": {
    "id": "e4T7qokEewlr"
   },
   "outputs": [],
   "source": [
    "y = data.target.astype(int).copy()"
   ]
  },
  {
   "cell_type": "code",
   "source": [
    "y"
   ],
   "metadata": {
    "colab": {
     "base_uri": "https://localhost:8080/"
    },
    "id": "isQzthlax8Cc",
    "outputId": "b08a4429-24db-456a-82df-a80d56db7f1a"
   },
   "execution_count": 21,
   "outputs": [
    {
     "output_type": "execute_result",
     "data": {
      "text/plain": [
       "0        6\n",
       "1        9\n",
       "2        9\n",
       "3        4\n",
       "4        1\n",
       "        ..\n",
       "19995    8\n",
       "19996    3\n",
       "19997    5\n",
       "19998    1\n",
       "19999    7\n",
       "Name: class, Length: 20000, dtype: int64"
      ]
     },
     "metadata": {},
     "execution_count": 21
    }
   ]
  },
  {
   "cell_type": "markdown",
   "metadata": {
    "id": "WIFP2E2-ewls"
   },
   "source": [
    "**Question 10**: How can we remove all except the 3 classes that we want to retain (0, 1 and 4, see above)?"
   ]
  },
  {
   "cell_type": "code",
   "execution_count": 22,
   "metadata": {
    "id": "-AfzDUdgeNou"
   },
   "outputs": [],
   "source": [
    "keep_ids = np.logical_or(y<2, y==4)\n",
    "y = y[keep_ids]\n",
    "y.shape"
   ]
  },
  {
   "cell_type": "code",
   "source": [
    "y"
   ],
   "metadata": {
    "colab": {
     "base_uri": "https://localhost:8080/"
    },
    "id": "tLTjdZy6yWFh",
    "outputId": "69bc89cc-3e73-4878-b395-d95854d7d193"
   },
   "execution_count": 23,
   "outputs": [
    {
     "output_type": "execute_result",
     "data": {
      "text/plain": [
       "0        6\n",
       "1        9\n",
       "2        9\n",
       "3        4\n",
       "4        1\n",
       "        ..\n",
       "19995    8\n",
       "19996    3\n",
       "19997    5\n",
       "19998    1\n",
       "19999    7\n",
       "Name: class, Length: 20000, dtype: int64"
      ]
     },
     "metadata": {},
     "execution_count": 23
    }
   ]
  },
  {
   "cell_type": "markdown",
   "metadata": {
    "id": "DuuS1Gciewlt"
   },
   "source": [
    "**Question 11**: How do we check that we kept the 3 classes?"
   ]
  },
  {
   "cell_type": "code",
   "source": [
    "np.unique(y)"
   ],
   "metadata": {
    "colab": {
     "base_uri": "https://localhost:8080/"
    },
    "id": "neXEr_0Ty8HW",
    "outputId": "6cb12692-191a-40af-ce7b-d742d6259869"
   },
   "execution_count": 28,
   "outputs": [
    {
     "output_type": "execute_result",
     "data": {
      "text/plain": [
       "array([0, 1, 4])"
      ]
     },
     "metadata": {},
     "execution_count": 28
    }
   ]
  },
  {
   "cell_type": "markdown",
   "metadata": {
    "id": "eQ4rBCMRewlt"
   },
   "source": [
    "Keep in mind that it is not sufficient to only remove classes from ```y```, but we will have to remove the corresponding indeci from the inputs (```data.data```) too.\n",
    "\n",
    "**Question 12**: How can we remove the corresponding indexes from the inputs?"
   ]
  },
  {
   "cell_type": "code",
   "execution_count": 29,
   "metadata": {
    "id": "ltbAMgisewlu"
   },
   "outputs": [],
   "source": [
    "X = X[keep_ids]\n"
   ]
  },
  {
   "cell_type": "code",
   "source": [
    "X.shape[0] == y.shape[0]"
   ],
   "metadata": {
    "colab": {
     "base_uri": "https://localhost:8080/"
    },
    "id": "wTpR7wC3zUqc",
    "outputId": "8ab71cba-7938-45a6-b037-3d2fd24e1f74"
   },
   "execution_count": 30,
   "outputs": [
    {
     "output_type": "execute_result",
     "data": {
      "text/plain": [
       "True"
      ]
     },
     "metadata": {},
     "execution_count": 30
    }
   ]
  },
  {
   "cell_type": "markdown",
   "metadata": {
    "id": "7EDh9UTaewlu"
   },
   "source": [
    "### Data split\n",
    "We need to split the data into training and test sets. The former is used to train, or fit, the model, and the latter is used to test, or evaluate, the model.\n",
    "\n",
    "**Question 13**: How can we use ```train_test_split``` (imported above) to partition the dataset into a training and a test set?"
   ]
  },
  {
   "cell_type": "code",
   "execution_count": 31,
   "metadata": {
    "id": "RUfFbYmmewlv"
   },
   "outputs": [],
   "source": [
    "X_train, X_test, y_train, y_test = train_test_split(X, y)"
   ]
  },
  {
   "cell_type": "markdown",
   "metadata": {
    "id": "acghaVqjewlw"
   },
   "source": [
    "**Question 14**: How do we check that we didn't mix up train and test sets?"
   ]
  },
  {
   "cell_type": "code",
   "source": [
    "X_train.shape "
   ],
   "metadata": {
    "colab": {
     "base_uri": "https://localhost:8080/"
    },
    "id": "LQtxuw7qzmyO",
    "outputId": "ac7715b5-0fc1-4791-9076-9ecbad8807c9"
   },
   "execution_count": 32,
   "outputs": [
    {
     "output_type": "execute_result",
     "data": {
      "text/plain": [
       "(4483, 3072)"
      ]
     },
     "metadata": {},
     "execution_count": 32
    }
   ]
  },
  {
   "cell_type": "code",
   "source": [
    "y_test.shape"
   ],
   "metadata": {
    "colab": {
     "base_uri": "https://localhost:8080/"
    },
    "id": "ONMlhp4xzyQl",
    "outputId": "a73301d4-3463-4316-f64f-9d54a7593c3c"
   },
   "execution_count": 33,
   "outputs": [
    {
     "output_type": "execute_result",
     "data": {
      "text/plain": [
       "(1495,)"
      ]
     },
     "metadata": {},
     "execution_count": 33
    }
   ]
  },
  {
   "cell_type": "markdown",
   "metadata": {
    "id": "_yUaKz-zewlw"
   },
   "source": [
    "## Multi-class classification\n",
    "The task is not a binary classification task, but a mulit-class since we have three and not just two classes.\n",
    "\n",
    "![Multi-class](https://drive.google.com/uc?id=1rnyu4qrFy2BUFCq8eFVxVLwXZ9MkOXCD)\n",
    "\n",
    "Image credit: [Alex Krizhevsky](https://cs231n.github.io/linear-classify/)\n",
    "<!-- ![Network architecture](https://drive.google.com/uc?id=1-MSS49rORx9oMw4uBvbckHO1vx1fDV8i) -->\n"
   ]
  },
  {
   "cell_type": "markdown",
   "metadata": {
    "id": "hdHAZg35ewlx"
   },
   "source": [
    "## Model fitting"
   ]
  },
  {
   "cell_type": "code",
   "execution_count": 34,
   "metadata": {
    "id": "eT70Xx0oewlx",
    "colab": {
     "base_uri": "https://localhost:8080/"
    },
    "outputId": "22e9b01d-4d64-4159-8f97-1fb56d90fccc"
   },
   "outputs": [
    {
     "output_type": "stream",
     "name": "stderr",
     "text": [
      "/usr/local/lib/python3.7/dist-packages/sklearn/svm/_base.py:1208: ConvergenceWarning: Liblinear failed to converge, increase the number of iterations.\n",
      "  ConvergenceWarning,\n"
     ]
    },
    {
     "output_type": "execute_result",
     "data": {
      "text/plain": [
       "LinearSVC()"
      ]
     },
     "metadata": {},
     "execution_count": 34
    }
   ],
   "source": [
    "model = LinearSVC()\n",
    "model.fit(X_train, y_train)"
   ]
  },
  {
   "cell_type": "markdown",
   "metadata": {
    "id": "UGisGE4Rewlx"
   },
   "source": [
    "**Question 15**: How can we predict the class label of a new image? E.g. ```X_test[512]```"
   ]
  },
  {
   "cell_type": "code",
   "source": [
    "np.reshape(X_test.iloc[512].values, (1, -1))"
   ],
   "metadata": {
    "colab": {
     "base_uri": "https://localhost:8080/"
    },
    "id": "FO1nG43P2ap_",
    "outputId": "1043a4f9-bbef-4b37-a779-e4ff6237143b"
   },
   "execution_count": 35,
   "outputs": [
    {
     "output_type": "execute_result",
     "data": {
      "text/plain": [
       "(3072, 1)"
      ]
     },
     "metadata": {},
     "execution_count": 35
    }
   ]
  },
  {
   "cell_type": "code",
   "execution_count": 37,
   "metadata": {
    "id": "mcAjVc_pewly",
    "colab": {
     "base_uri": "https://localhost:8080/"
    },
    "outputId": "bcb67460-6f35-44cc-8c93-bc5f1ff605f6"
   },
   "outputs": [
    {
     "output_type": "stream",
     "name": "stderr",
     "text": [
      "/usr/local/lib/python3.7/dist-packages/sklearn/base.py:451: UserWarning: X does not have valid feature names, but LinearSVC was fitted with feature names\n",
      "  \"X does not have valid feature names, but\"\n"
     ]
    },
    {
     "output_type": "execute_result",
     "data": {
      "text/plain": [
       "array([0])"
      ]
     },
     "metadata": {},
     "execution_count": 37
    }
   ],
   "source": [
    "model.predict(np.reshape(X_test.iloc[512].values, (1, -1)))"
   ]
  },
  {
   "cell_type": "markdown",
   "metadata": {
    "id": "IIO2AKSzewly"
   },
   "source": [
    "**Question 16**: Was the prediction correct?"
   ]
  },
  {
   "cell_type": "code",
   "execution_count": 38,
   "metadata": {
    "id": "K9N7DjxEewly",
    "colab": {
     "base_uri": "https://localhost:8080/"
    },
    "outputId": "42d5210a-c856-49e6-e9bb-5520c9ec50a9"
   },
   "outputs": [
    {
     "output_type": "execute_result",
     "data": {
      "text/plain": [
       "1"
      ]
     },
     "metadata": {},
     "execution_count": 38
    }
   ],
   "source": [
    "y_test.iloc[512]"
   ]
  },
  {
   "cell_type": "markdown",
   "metadata": {
    "id": "zxwhGYMtewlz"
   },
   "source": [
    "## Evaluation\n",
    "\n",
    "Average accuracy (i.e. average fraction correct predictions)"
   ]
  },
  {
   "cell_type": "code",
   "execution_count": 39,
   "metadata": {
    "id": "2vGBWa1Tewl0",
    "colab": {
     "base_uri": "https://localhost:8080/"
    },
    "outputId": "0f2f99fe-0497-487d-a59e-4272d52c3182"
   },
   "outputs": [
    {
     "output_type": "execute_result",
     "data": {
      "text/plain": [
       "0.6983277591973244"
      ]
     },
     "metadata": {},
     "execution_count": 39
    }
   ],
   "source": [
    "model.score(X_test, y_test)"
   ]
  },
  {
   "cell_type": "markdown",
   "metadata": {
    "id": "cio1qPHCewl0"
   },
   "source": [
    "**Question 17**: What is chance performance (i.e. what performance do you expect from random guessing)?\n",
    "\n",
    "**Queston 18:** How can we quickly estimate chance performance without making any assumptions about the class distribution?"
   ]
  },
  {
   "cell_type": "code",
   "execution_count": 41,
   "metadata": {
    "id": "4Uccuf0MeNox",
    "colab": {
     "base_uri": "https://localhost:8080/"
    },
    "outputId": "104f4efd-5dc1-4c63-93ca-3a7d4c89d141"
   },
   "outputs": [
    {
     "output_type": "execute_result",
     "data": {
      "text/plain": [
       "0.33043478260869563"
      ]
     },
     "metadata": {},
     "execution_count": 41
    }
   ],
   "source": [
    "rnd_ids = np.arange(y_test.shape[0])\n",
    "np.random.shuffle(rnd_ids)\n",
    "model.score(X_test, y_test.iloc[rnd_ids])"
   ]
  },
  {
   "cell_type": "markdown",
   "metadata": {
    "id": "DPQhrIjiewl1"
   },
   "source": [
    "With unbalanced (i.e. not equal number of examples of each class) data it is generally better evaluate performance with, for example, the F1-score.\n",
    "\n",
    "**Question 19**: How can we use ```sklearn.metrics``` (imported above) to calcuate the F1-score?"
   ]
  },
  {
   "cell_type": "code",
   "execution_count": 42,
   "metadata": {
    "id": "9-1hD_c5eNox",
    "colab": {
     "base_uri": "https://localhost:8080/"
    },
    "outputId": "1849ec16-63b3-4b92-c16c-650b98df96fe"
   },
   "outputs": [
    {
     "output_type": "execute_result",
     "data": {
      "text/plain": [
       "0.6983277591973244"
      ]
     },
     "metadata": {},
     "execution_count": 42
    }
   ],
   "source": [
    "metrics.f1_score(y_test, model.predict(X_test), average='micro')"
   ]
  }
 ],
 "metadata": {
  "colab": {
   "name": "MBAN6500_class04_LinClass.ipynb",
   "provenance": []
  },
  "kernelspec": {
   "display_name": "Python 3 (ipykernel)",
   "language": "python",
   "name": "python3"
  },
  "language_info": {
   "codemirror_mode": {
    "name": "ipython",
    "version": 3
   },
   "file_extension": ".py",
   "mimetype": "text/x-python",
   "name": "python",
   "nbconvert_exporter": "python",
   "pygments_lexer": "ipython3",
   "version": "3.9.7"
  }
 },
 "nbformat": 4,
 "nbformat_minor": 0
}